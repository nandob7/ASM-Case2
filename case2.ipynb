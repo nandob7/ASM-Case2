{
 "cells": [
  {
   "cell_type": "code",
   "execution_count": 27,
   "id": "initial_id",
   "metadata": {
    "collapsed": true,
    "ExecuteTime": {
     "end_time": "2023-11-28T15:20:15.807000800Z",
     "start_time": "2023-11-28T15:20:15.738261700Z"
    }
   },
   "outputs": [],
   "source": [
    "import pandas as pd\n",
    "import numpy as np\n",
    "\n",
    "df = pd.read_csv(\"Arrival data.csv\")"
   ]
  },
  {
   "cell_type": "code",
   "execution_count": 30,
   "outputs": [
    {
     "data": {
      "text/plain": "       Week       Day   Arrival Adjusted Arrival\n0          1  Weekday  08:01:26         00:01:26\n1          1  Weekday  08:06:59         00:06:59\n2          1  Weekday  08:11:07         00:11:07\n3          1  Weekday  08:13:08         00:13:08\n4          1  Weekday  08:13:56         00:13:56\n...      ...      ...       ...              ...\n42066      8      Sun  00:52:20         16:52:20\n42067      8      Sun  00:53:12         16:53:12\n42068      8      Sun  00:55:38         16:55:38\n42069      8      Sun  00:58:41         16:58:41\n42070      8      Sun  00:58:57         16:58:57\n\n[42071 rows x 4 columns]",
      "text/html": "<div>\n<style scoped>\n    .dataframe tbody tr th:only-of-type {\n        vertical-align: middle;\n    }\n\n    .dataframe tbody tr th {\n        vertical-align: top;\n    }\n\n    .dataframe thead th {\n        text-align: right;\n    }\n</style>\n<table border=\"1\" class=\"dataframe\">\n  <thead>\n    <tr style=\"text-align: right;\">\n      <th></th>\n      <th>Week</th>\n      <th>Day</th>\n      <th>Arrival</th>\n      <th>Adjusted Arrival</th>\n    </tr>\n  </thead>\n  <tbody>\n    <tr>\n      <th>0</th>\n      <td>1</td>\n      <td>Weekday</td>\n      <td>08:01:26</td>\n      <td>00:01:26</td>\n    </tr>\n    <tr>\n      <th>1</th>\n      <td>1</td>\n      <td>Weekday</td>\n      <td>08:06:59</td>\n      <td>00:06:59</td>\n    </tr>\n    <tr>\n      <th>2</th>\n      <td>1</td>\n      <td>Weekday</td>\n      <td>08:11:07</td>\n      <td>00:11:07</td>\n    </tr>\n    <tr>\n      <th>3</th>\n      <td>1</td>\n      <td>Weekday</td>\n      <td>08:13:08</td>\n      <td>00:13:08</td>\n    </tr>\n    <tr>\n      <th>4</th>\n      <td>1</td>\n      <td>Weekday</td>\n      <td>08:13:56</td>\n      <td>00:13:56</td>\n    </tr>\n    <tr>\n      <th>...</th>\n      <td>...</td>\n      <td>...</td>\n      <td>...</td>\n      <td>...</td>\n    </tr>\n    <tr>\n      <th>42066</th>\n      <td>8</td>\n      <td>Sun</td>\n      <td>00:52:20</td>\n      <td>16:52:20</td>\n    </tr>\n    <tr>\n      <th>42067</th>\n      <td>8</td>\n      <td>Sun</td>\n      <td>00:53:12</td>\n      <td>16:53:12</td>\n    </tr>\n    <tr>\n      <th>42068</th>\n      <td>8</td>\n      <td>Sun</td>\n      <td>00:55:38</td>\n      <td>16:55:38</td>\n    </tr>\n    <tr>\n      <th>42069</th>\n      <td>8</td>\n      <td>Sun</td>\n      <td>00:58:41</td>\n      <td>16:58:41</td>\n    </tr>\n    <tr>\n      <th>42070</th>\n      <td>8</td>\n      <td>Sun</td>\n      <td>00:58:57</td>\n      <td>16:58:57</td>\n    </tr>\n  </tbody>\n</table>\n<p>42071 rows × 4 columns</p>\n</div>"
     },
     "execution_count": 30,
     "metadata": {},
     "output_type": "execute_result"
    }
   ],
   "source": [
    "df = df.iloc[:,:4]\n",
    "df"
   ],
   "metadata": {
    "collapsed": false,
    "ExecuteTime": {
     "end_time": "2023-11-28T15:21:29.532956800Z",
     "start_time": "2023-11-28T15:21:29.498006400Z"
    }
   },
   "id": "5ba6a6f7ff098479"
  },
  {
   "cell_type": "code",
   "execution_count": 39,
   "outputs": [],
   "source": [
    "weekday = df[df['Day']=='Weekday']\n",
    "sat = df[df['Day']=='Sat']\n",
    "sun = df[df['Day']=='Sun']"
   ],
   "metadata": {
    "collapsed": false,
    "ExecuteTime": {
     "end_time": "2023-11-28T15:24:51.185628600Z",
     "start_time": "2023-11-28T15:24:51.148603Z"
    }
   },
   "id": "f523f259d1fe5498"
  },
  {
   "cell_type": "code",
   "execution_count": 40,
   "outputs": [
    {
     "data": {
      "text/plain": "       Week   Day   Arrival Adjusted Arrival\n28187      1  Sun  08:03:00         00:03:00\n28188      1  Sun  08:05:32         00:05:32\n28189      1  Sun  08:05:45         00:05:45\n28190      1  Sun  08:06:55         00:06:55\n28191      1  Sun  08:08:02         00:08:02\n...      ...  ...       ...              ...\n42066      8  Sun  00:52:20         16:52:20\n42067      8  Sun  00:53:12         16:53:12\n42068      8  Sun  00:55:38         16:55:38\n42069      8  Sun  00:58:41         16:58:41\n42070      8  Sun  00:58:57         16:58:57\n\n[13884 rows x 4 columns]",
      "text/html": "<div>\n<style scoped>\n    .dataframe tbody tr th:only-of-type {\n        vertical-align: middle;\n    }\n\n    .dataframe tbody tr th {\n        vertical-align: top;\n    }\n\n    .dataframe thead th {\n        text-align: right;\n    }\n</style>\n<table border=\"1\" class=\"dataframe\">\n  <thead>\n    <tr style=\"text-align: right;\">\n      <th></th>\n      <th>Week</th>\n      <th>Day</th>\n      <th>Arrival</th>\n      <th>Adjusted Arrival</th>\n    </tr>\n  </thead>\n  <tbody>\n    <tr>\n      <th>28187</th>\n      <td>1</td>\n      <td>Sun</td>\n      <td>08:03:00</td>\n      <td>00:03:00</td>\n    </tr>\n    <tr>\n      <th>28188</th>\n      <td>1</td>\n      <td>Sun</td>\n      <td>08:05:32</td>\n      <td>00:05:32</td>\n    </tr>\n    <tr>\n      <th>28189</th>\n      <td>1</td>\n      <td>Sun</td>\n      <td>08:05:45</td>\n      <td>00:05:45</td>\n    </tr>\n    <tr>\n      <th>28190</th>\n      <td>1</td>\n      <td>Sun</td>\n      <td>08:06:55</td>\n      <td>00:06:55</td>\n    </tr>\n    <tr>\n      <th>28191</th>\n      <td>1</td>\n      <td>Sun</td>\n      <td>08:08:02</td>\n      <td>00:08:02</td>\n    </tr>\n    <tr>\n      <th>...</th>\n      <td>...</td>\n      <td>...</td>\n      <td>...</td>\n      <td>...</td>\n    </tr>\n    <tr>\n      <th>42066</th>\n      <td>8</td>\n      <td>Sun</td>\n      <td>00:52:20</td>\n      <td>16:52:20</td>\n    </tr>\n    <tr>\n      <th>42067</th>\n      <td>8</td>\n      <td>Sun</td>\n      <td>00:53:12</td>\n      <td>16:53:12</td>\n    </tr>\n    <tr>\n      <th>42068</th>\n      <td>8</td>\n      <td>Sun</td>\n      <td>00:55:38</td>\n      <td>16:55:38</td>\n    </tr>\n    <tr>\n      <th>42069</th>\n      <td>8</td>\n      <td>Sun</td>\n      <td>00:58:41</td>\n      <td>16:58:41</td>\n    </tr>\n    <tr>\n      <th>42070</th>\n      <td>8</td>\n      <td>Sun</td>\n      <td>00:58:57</td>\n      <td>16:58:57</td>\n    </tr>\n  </tbody>\n</table>\n<p>13884 rows × 4 columns</p>\n</div>"
     },
     "execution_count": 40,
     "metadata": {},
     "output_type": "execute_result"
    }
   ],
   "source": [
    "sun"
   ],
   "metadata": {
    "collapsed": false,
    "ExecuteTime": {
     "end_time": "2023-11-28T15:24:54.578643300Z",
     "start_time": "2023-11-28T15:24:54.523063200Z"
    }
   },
   "id": "2dacb3d284e4131c"
  }
 ],
 "metadata": {
  "kernelspec": {
   "display_name": "Python 3",
   "language": "python",
   "name": "python3"
  },
  "language_info": {
   "codemirror_mode": {
    "name": "ipython",
    "version": 2
   },
   "file_extension": ".py",
   "mimetype": "text/x-python",
   "name": "python",
   "nbconvert_exporter": "python",
   "pygments_lexer": "ipython2",
   "version": "2.7.6"
  }
 },
 "nbformat": 4,
 "nbformat_minor": 5
}
