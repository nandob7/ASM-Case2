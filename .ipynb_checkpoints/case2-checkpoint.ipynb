{
 "cells": [
  {
   "cell_type": "code",
<<<<<<< Updated upstream
   "execution_count": 2,
=======
   "execution_count": 27,
>>>>>>> Stashed changes
   "id": "initial_id",
   "metadata": {
    "ExecuteTime": {
     "end_time": "2023-11-28T15:20:15.807000800Z",
     "start_time": "2023-11-28T15:20:15.738261700Z"
<<<<<<< Updated upstream
    }
=======
    },
    "collapsed": true
>>>>>>> Stashed changes
   },
   "outputs": [],
   "source": [
    "import pandas as pd\n",
    "import numpy as np\n",
    "\n",
    "df = pd.read_csv(\"Arrival data.csv\")"
   ]
  },
  {
   "cell_type": "code",
<<<<<<< Updated upstream
   "execution_count": 3,
=======
   "execution_count": 30,
>>>>>>> Stashed changes
   "id": "5ba6a6f7ff098479",
   "metadata": {
    "ExecuteTime": {
     "end_time": "2023-11-28T15:21:29.532956800Z",
     "start_time": "2023-11-28T15:21:29.498006400Z"
    }
   },
   "outputs": [
    {
     "data": {
      "text/html": [
       "<div>\n",
       "<style scoped>\n",
       "    .dataframe tbody tr th:only-of-type {\n",
       "        vertical-align: middle;\n",
       "    }\n",
       "\n",
       "    .dataframe tbody tr th {\n",
       "        vertical-align: top;\n",
       "    }\n",
       "\n",
       "    .dataframe thead th {\n",
       "        text-align: right;\n",
       "    }\n",
       "</style>\n",
       "<table border=\"1\" class=\"dataframe\">\n",
       "  <thead>\n",
       "    <tr style=\"text-align: right;\">\n",
       "      <th></th>\n",
       "      <th>Week</th>\n",
       "      <th>Day</th>\n",
       "      <th>Arrival</th>\n",
       "      <th>Adjusted Arrival</th>\n",
       "    </tr>\n",
       "  </thead>\n",
       "  <tbody>\n",
       "    <tr>\n",
       "      <th>0</th>\n",
       "      <td>1</td>\n",
       "      <td>Weekday</td>\n",
       "      <td>08:01:26</td>\n",
       "      <td>00:01:26</td>\n",
       "    </tr>\n",
       "    <tr>\n",
       "      <th>1</th>\n",
       "      <td>1</td>\n",
       "      <td>Weekday</td>\n",
       "      <td>08:06:59</td>\n",
       "      <td>00:06:59</td>\n",
       "    </tr>\n",
       "    <tr>\n",
       "      <th>2</th>\n",
       "      <td>1</td>\n",
       "      <td>Weekday</td>\n",
       "      <td>08:11:07</td>\n",
       "      <td>00:11:07</td>\n",
       "    </tr>\n",
       "    <tr>\n",
       "      <th>3</th>\n",
       "      <td>1</td>\n",
       "      <td>Weekday</td>\n",
       "      <td>08:13:08</td>\n",
       "      <td>00:13:08</td>\n",
       "    </tr>\n",
       "    <tr>\n",
       "      <th>4</th>\n",
       "      <td>1</td>\n",
       "      <td>Weekday</td>\n",
       "      <td>08:13:56</td>\n",
       "      <td>00:13:56</td>\n",
       "    </tr>\n",
       "    <tr>\n",
       "      <th>...</th>\n",
       "      <td>...</td>\n",
       "      <td>...</td>\n",
       "      <td>...</td>\n",
       "      <td>...</td>\n",
       "    </tr>\n",
       "    <tr>\n",
       "      <th>42066</th>\n",
       "      <td>8</td>\n",
       "      <td>Sun</td>\n",
       "      <td>00:52:20</td>\n",
       "      <td>16:52:20</td>\n",
       "    </tr>\n",
       "    <tr>\n",
       "      <th>42067</th>\n",
       "      <td>8</td>\n",
       "      <td>Sun</td>\n",
       "      <td>00:53:12</td>\n",
       "      <td>16:53:12</td>\n",
       "    </tr>\n",
       "    <tr>\n",
       "      <th>42068</th>\n",
       "      <td>8</td>\n",
       "      <td>Sun</td>\n",
       "      <td>00:55:38</td>\n",
       "      <td>16:55:38</td>\n",
       "    </tr>\n",
       "    <tr>\n",
       "      <th>42069</th>\n",
       "      <td>8</td>\n",
       "      <td>Sun</td>\n",
       "      <td>00:58:41</td>\n",
       "      <td>16:58:41</td>\n",
       "    </tr>\n",
       "    <tr>\n",
       "      <th>42070</th>\n",
       "      <td>8</td>\n",
       "      <td>Sun</td>\n",
       "      <td>00:58:57</td>\n",
       "      <td>16:58:57</td>\n",
       "    </tr>\n",
       "  </tbody>\n",
       "</table>\n",
       "<p>42071 rows × 4 columns</p>\n",
       "</div>"
      ],
      "text/plain": [
       "       Week       Day   Arrival Adjusted Arrival\n",
       "0          1  Weekday  08:01:26         00:01:26\n",
       "1          1  Weekday  08:06:59         00:06:59\n",
       "2          1  Weekday  08:11:07         00:11:07\n",
       "3          1  Weekday  08:13:08         00:13:08\n",
       "4          1  Weekday  08:13:56         00:13:56\n",
       "...      ...      ...       ...              ...\n",
       "42066      8      Sun  00:52:20         16:52:20\n",
       "42067      8      Sun  00:53:12         16:53:12\n",
       "42068      8      Sun  00:55:38         16:55:38\n",
       "42069      8      Sun  00:58:41         16:58:41\n",
       "42070      8      Sun  00:58:57         16:58:57\n",
       "\n",
       "[42071 rows x 4 columns]"
      ]
     },
<<<<<<< Updated upstream
     "execution_count": 3,
=======
     "execution_count": 30,
>>>>>>> Stashed changes
     "metadata": {},
     "output_type": "execute_result"
    }
   ],
   "source": [
    "df = df.iloc[:,:4]\n",
    "df"
   ]
  },
  {
   "cell_type": "code",
<<<<<<< Updated upstream
   "execution_count": 4,
   "id": "f523f259d1fe5498",
   "metadata": {
    "ExecuteTime": {
     "end_time": "2023-11-28T15:24:51.185628600Z",
     "start_time": "2023-11-28T15:24:51.148603Z"
    }
   },
   "outputs": [],
   "source": [
    "weekday = df[df['Day']=='Weekday']\n",
    "saturday = df[df['Day']=='Sat']\n",
    "sunday = df[df['Day']=='Sun']"
=======
   "execution_count": null,
   "id": "f523f259d1fe5498",
   "metadata": {},
   "outputs": [],
   "source": [
    "df/"
>>>>>>> Stashed changes
   ]
  },
  {
   "cell_type": "code",
<<<<<<< Updated upstream
   "execution_count": 5,
   "id": "2dacb3d284e4131c",
   "metadata": {
    "ExecuteTime": {
     "end_time": "2023-11-28T15:24:54.578643300Z",
     "start_time": "2023-11-28T15:24:54.523063200Z"
    }
   },
   "outputs": [
    {
     "ename": "NameError",
     "evalue": "name 'sun' is not defined",
     "output_type": "error",
     "traceback": [
      "\u001b[1;31m---------------------------------------------------------------------------\u001b[0m",
      "\u001b[1;31mNameError\u001b[0m                                 Traceback (most recent call last)",
      "Cell \u001b[1;32mIn[5], line 1\u001b[0m\n\u001b[1;32m----> 1\u001b[0m sun\n",
      "\u001b[1;31mNameError\u001b[0m: name 'sun' is not defined"
     ]
    }
   ],
   "source": [
    "sun"
   ]
  },
  {
   "cell_type": "code",
   "execution_count": 6,
   "id": "a4fba16b",
   "metadata": {},
   "outputs": [
    {
     "name": "stderr",
     "output_type": "stream",
     "text": [
      "C:\\Users\\ramon\\AppData\\Local\\Temp\\ipykernel_21460\\3098322925.py:2: SettingWithCopyWarning: \n",
      "A value is trying to be set on a copy of a slice from a DataFrame.\n",
      "Try using .loc[row_indexer,col_indexer] = value instead\n",
      "\n",
      "See the caveats in the documentation: https://pandas.pydata.org/pandas-docs/stable/user_guide/indexing.html#returning-a-view-versus-a-copy\n",
      "  data['Arrival'] = pd.to_timedelta(data['Arrival'].astype(str))\n",
      "C:\\Users\\ramon\\AppData\\Local\\Temp\\ipykernel_21460\\3098322925.py:5: SettingWithCopyWarning: \n",
      "A value is trying to be set on a copy of a slice from a DataFrame.\n",
      "Try using .loc[row_indexer,col_indexer] = value instead\n",
      "\n",
      "See the caveats in the documentation: https://pandas.pydata.org/pandas-docs/stable/user_guide/indexing.html#returning-a-view-versus-a-copy\n",
      "  data['Adjusted Arrival'] = data['Arrival'] - pd.Timedelta(hours=8)\n",
      "C:\\Users\\ramon\\AppData\\Local\\Temp\\ipykernel_21460\\3098322925.py:6: SettingWithCopyWarning: \n",
      "A value is trying to be set on a copy of a slice from a DataFrame.\n",
      "Try using .loc[row_indexer,col_indexer] = value instead\n",
      "\n",
      "See the caveats in the documentation: https://pandas.pydata.org/pandas-docs/stable/user_guide/indexing.html#returning-a-view-versus-a-copy\n",
      "  data['Adjusted Arrival'] = data['Adjusted Arrival'].apply(\n",
      "C:\\Users\\ramon\\AppData\\Local\\Temp\\ipykernel_21460\\3098322925.py:22: SettingWithCopyWarning: \n",
      "A value is trying to be set on a copy of a slice from a DataFrame.\n",
      "Try using .loc[row_indexer,col_indexer] = value instead\n",
      "\n",
      "See the caveats in the documentation: https://pandas.pydata.org/pandas-docs/stable/user_guide/indexing.html#returning-a-view-versus-a-copy\n",
      "  weekday['Interarrival Time (sec)'] = weekday.groupby('Week ').apply(calculate_interarrival).reset_index(level=0, drop=True)\n",
      "C:\\Users\\ramon\\AppData\\Local\\Temp\\ipykernel_21460\\3098322925.py:2: SettingWithCopyWarning: \n",
      "A value is trying to be set on a copy of a slice from a DataFrame.\n",
      "Try using .loc[row_indexer,col_indexer] = value instead\n",
      "\n",
      "See the caveats in the documentation: https://pandas.pydata.org/pandas-docs/stable/user_guide/indexing.html#returning-a-view-versus-a-copy\n",
      "  data['Arrival'] = pd.to_timedelta(data['Arrival'].astype(str))\n",
      "C:\\Users\\ramon\\AppData\\Local\\Temp\\ipykernel_21460\\3098322925.py:5: SettingWithCopyWarning: \n",
      "A value is trying to be set on a copy of a slice from a DataFrame.\n",
      "Try using .loc[row_indexer,col_indexer] = value instead\n",
      "\n",
      "See the caveats in the documentation: https://pandas.pydata.org/pandas-docs/stable/user_guide/indexing.html#returning-a-view-versus-a-copy\n",
      "  data['Adjusted Arrival'] = data['Arrival'] - pd.Timedelta(hours=8)\n",
      "C:\\Users\\ramon\\AppData\\Local\\Temp\\ipykernel_21460\\3098322925.py:6: SettingWithCopyWarning: \n",
      "A value is trying to be set on a copy of a slice from a DataFrame.\n",
      "Try using .loc[row_indexer,col_indexer] = value instead\n",
      "\n",
      "See the caveats in the documentation: https://pandas.pydata.org/pandas-docs/stable/user_guide/indexing.html#returning-a-view-versus-a-copy\n",
      "  data['Adjusted Arrival'] = data['Adjusted Arrival'].apply(\n",
      "C:\\Users\\ramon\\AppData\\Local\\Temp\\ipykernel_21460\\3098322925.py:25: SettingWithCopyWarning: \n",
      "A value is trying to be set on a copy of a slice from a DataFrame.\n",
      "Try using .loc[row_indexer,col_indexer] = value instead\n",
      "\n",
      "See the caveats in the documentation: https://pandas.pydata.org/pandas-docs/stable/user_guide/indexing.html#returning-a-view-versus-a-copy\n",
      "  saturday['Interarrival Time (sec)'] = saturday.groupby('Week ').apply(calculate_interarrival).reset_index(level=0, drop=True)\n",
      "C:\\Users\\ramon\\AppData\\Local\\Temp\\ipykernel_21460\\3098322925.py:2: SettingWithCopyWarning: \n",
      "A value is trying to be set on a copy of a slice from a DataFrame.\n",
      "Try using .loc[row_indexer,col_indexer] = value instead\n",
      "\n",
      "See the caveats in the documentation: https://pandas.pydata.org/pandas-docs/stable/user_guide/indexing.html#returning-a-view-versus-a-copy\n",
      "  data['Arrival'] = pd.to_timedelta(data['Arrival'].astype(str))\n",
      "C:\\Users\\ramon\\AppData\\Local\\Temp\\ipykernel_21460\\3098322925.py:5: SettingWithCopyWarning: \n",
      "A value is trying to be set on a copy of a slice from a DataFrame.\n",
      "Try using .loc[row_indexer,col_indexer] = value instead\n",
      "\n",
      "See the caveats in the documentation: https://pandas.pydata.org/pandas-docs/stable/user_guide/indexing.html#returning-a-view-versus-a-copy\n",
      "  data['Adjusted Arrival'] = data['Arrival'] - pd.Timedelta(hours=8)\n",
      "C:\\Users\\ramon\\AppData\\Local\\Temp\\ipykernel_21460\\3098322925.py:6: SettingWithCopyWarning: \n",
      "A value is trying to be set on a copy of a slice from a DataFrame.\n",
      "Try using .loc[row_indexer,col_indexer] = value instead\n",
      "\n",
      "See the caveats in the documentation: https://pandas.pydata.org/pandas-docs/stable/user_guide/indexing.html#returning-a-view-versus-a-copy\n",
      "  data['Adjusted Arrival'] = data['Adjusted Arrival'].apply(\n",
      "C:\\Users\\ramon\\AppData\\Local\\Temp\\ipykernel_21460\\3098322925.py:28: SettingWithCopyWarning: \n",
      "A value is trying to be set on a copy of a slice from a DataFrame.\n",
      "Try using .loc[row_indexer,col_indexer] = value instead\n",
      "\n",
      "See the caveats in the documentation: https://pandas.pydata.org/pandas-docs/stable/user_guide/indexing.html#returning-a-view-versus-a-copy\n",
      "  sunday['Interarrival Time (sec)'] = sunday.groupby('Week ').apply(calculate_interarrival).reset_index(level=0, drop=True)\n"
     ]
    }
   ],
=======
   "execution_count": null,
   "id": "590a3cdc",
   "metadata": {},
   "outputs": [],
>>>>>>> Stashed changes
   "source": [
    "def DataManip(data):\n",
    "    data['Arrival'] = pd.to_timedelta(data['Arrival'].astype(str))\n",
    "\n",
    "    # Subtract 8 hours from each time to adjust the range from 0 to 17 hours\n",
    "    data['Adjusted Arrival'] = data['Arrival'] - pd.Timedelta(hours=8)\n",
    "    data['Adjusted Arrival'] = data['Adjusted Arrival'].apply(\n",
    "        lambda x: x + pd.Timedelta(days=1) if x.total_seconds() < 0 else x)\n",
    "    return data\n",
    "\n",
<<<<<<< Updated upstream
=======
    "\n",
>>>>>>> Stashed changes
    "# Function to calculate interarrival times\n",
    "def calculate_interarrival(group):\n",
    "    # Shift the 'Adjusted Arrival' column to get the difference with the previous row\n",
    "    interarrival = group['Adjusted Arrival'].diff()\n",
    "\n",
    "    # For the first row of each group, use the 'Adjusted Arrival' time itself\n",
    "    interarrival.iloc[0] = group['Adjusted Arrival'].iloc[0]\n",
    "\n",
    "    # Convert interarrival times to seconds\n",
    "    return interarrival.dt.total_seconds()\n",
    "\n",
<<<<<<< Updated upstream
    "weekday = DataManip(weekday)\n",
    "weekday['Interarrival Time (sec)'] = weekday.groupby('Week ').apply(calculate_interarrival).reset_index(level=0, drop=True)\n",
    "\n",
    "saturday = DataManip(saturday)\n",
    "saturday['Interarrival Time (sec)'] = saturday.groupby('Week ').apply(calculate_interarrival).reset_index(level=0, drop=True)\n",
    "\n",
    "sunday = DataManip(sunday)\n",
    "sunday['Interarrival Time (sec)'] = sunday.groupby('Week ').apply(calculate_interarrival).reset_index(level=0, drop=True)\n"
   ]
  },
  {
   "cell_type": "code",
   "execution_count": 8,
   "id": "33e3b626",
   "metadata": {},
   "outputs": [
    {
     "data": {
      "text/html": [
       "<div>\n",
       "<style scoped>\n",
       "    .dataframe tbody tr th:only-of-type {\n",
       "        vertical-align: middle;\n",
       "    }\n",
       "\n",
       "    .dataframe tbody tr th {\n",
       "        vertical-align: top;\n",
       "    }\n",
       "\n",
       "    .dataframe thead th {\n",
       "        text-align: right;\n",
       "    }\n",
       "</style>\n",
       "<table border=\"1\" class=\"dataframe\">\n",
       "  <thead>\n",
       "    <tr style=\"text-align: right;\">\n",
       "      <th></th>\n",
       "      <th>Week</th>\n",
       "      <th>Day</th>\n",
       "      <th>Arrival</th>\n",
       "      <th>Adjusted Arrival</th>\n",
       "      <th>Interarrival Time (sec)</th>\n",
       "    </tr>\n",
       "  </thead>\n",
       "  <tbody>\n",
       "    <tr>\n",
       "      <th>13720</th>\n",
       "      <td>1</td>\n",
       "      <td>Sat</td>\n",
       "      <td>0 days 08:00:33</td>\n",
       "      <td>0 days 00:00:33</td>\n",
       "      <td>33.0</td>\n",
       "    </tr>\n",
       "    <tr>\n",
       "      <th>13721</th>\n",
       "      <td>1</td>\n",
       "      <td>Sat</td>\n",
       "      <td>0 days 08:01:13</td>\n",
       "      <td>0 days 00:01:13</td>\n",
       "      <td>40.0</td>\n",
       "    </tr>\n",
       "    <tr>\n",
       "      <th>13722</th>\n",
       "      <td>1</td>\n",
       "      <td>Sat</td>\n",
       "      <td>0 days 08:01:26</td>\n",
       "      <td>0 days 00:01:26</td>\n",
       "      <td>13.0</td>\n",
       "    </tr>\n",
       "    <tr>\n",
       "      <th>13723</th>\n",
       "      <td>1</td>\n",
       "      <td>Sat</td>\n",
       "      <td>0 days 08:01:47</td>\n",
       "      <td>0 days 00:01:47</td>\n",
       "      <td>21.0</td>\n",
       "    </tr>\n",
       "    <tr>\n",
       "      <th>13724</th>\n",
       "      <td>1</td>\n",
       "      <td>Sat</td>\n",
       "      <td>0 days 08:06:57</td>\n",
       "      <td>0 days 00:06:57</td>\n",
       "      <td>310.0</td>\n",
       "    </tr>\n",
       "    <tr>\n",
       "      <th>...</th>\n",
       "      <td>...</td>\n",
       "      <td>...</td>\n",
       "      <td>...</td>\n",
       "      <td>...</td>\n",
       "      <td>...</td>\n",
       "    </tr>\n",
       "    <tr>\n",
       "      <th>28182</th>\n",
       "      <td>8</td>\n",
       "      <td>Sat</td>\n",
       "      <td>0 days 00:53:54</td>\n",
       "      <td>0 days 16:53:54</td>\n",
       "      <td>51.0</td>\n",
       "    </tr>\n",
       "    <tr>\n",
       "      <th>28183</th>\n",
       "      <td>8</td>\n",
       "      <td>Sat</td>\n",
       "      <td>0 days 00:55:22</td>\n",
       "      <td>0 days 16:55:22</td>\n",
       "      <td>88.0</td>\n",
       "    </tr>\n",
       "    <tr>\n",
       "      <th>28184</th>\n",
       "      <td>8</td>\n",
       "      <td>Sat</td>\n",
       "      <td>0 days 00:56:32</td>\n",
       "      <td>0 days 16:56:32</td>\n",
       "      <td>70.0</td>\n",
       "    </tr>\n",
       "    <tr>\n",
       "      <th>28185</th>\n",
       "      <td>8</td>\n",
       "      <td>Sat</td>\n",
       "      <td>0 days 00:59:02</td>\n",
       "      <td>0 days 16:59:02</td>\n",
       "      <td>150.0</td>\n",
       "    </tr>\n",
       "    <tr>\n",
       "      <th>28186</th>\n",
       "      <td>8</td>\n",
       "      <td>Sat</td>\n",
       "      <td>0 days 00:59:15</td>\n",
       "      <td>0 days 16:59:15</td>\n",
       "      <td>13.0</td>\n",
       "    </tr>\n",
       "  </tbody>\n",
       "</table>\n",
       "<p>14467 rows × 5 columns</p>\n",
       "</div>"
      ],
      "text/plain": [
       "       Week   Day         Arrival Adjusted Arrival  Interarrival Time (sec)\n",
       "13720      1  Sat 0 days 08:00:33  0 days 00:00:33                     33.0\n",
       "13721      1  Sat 0 days 08:01:13  0 days 00:01:13                     40.0\n",
       "13722      1  Sat 0 days 08:01:26  0 days 00:01:26                     13.0\n",
       "13723      1  Sat 0 days 08:01:47  0 days 00:01:47                     21.0\n",
       "13724      1  Sat 0 days 08:06:57  0 days 00:06:57                    310.0\n",
       "...      ...  ...             ...              ...                      ...\n",
       "28182      8  Sat 0 days 00:53:54  0 days 16:53:54                     51.0\n",
       "28183      8  Sat 0 days 00:55:22  0 days 16:55:22                     88.0\n",
       "28184      8  Sat 0 days 00:56:32  0 days 16:56:32                     70.0\n",
       "28185      8  Sat 0 days 00:59:02  0 days 16:59:02                    150.0\n",
       "28186      8  Sat 0 days 00:59:15  0 days 16:59:15                     13.0\n",
       "\n",
       "[14467 rows x 5 columns]"
      ]
     },
     "execution_count": 8,
     "metadata": {},
     "output_type": "execute_result"
    }
   ],
   "source": [
    "saturday"
   ]
  },
  {
   "cell_type": "code",
   "execution_count": null,
   "id": "ee886787",
   "metadata": {},
   "outputs": [],
   "source": []
=======
    "# Apply the function to each group and assign the result to a new column\n",
    "data['Interarrival Time (sec)'] = data.groupby('Week ').apply(calculate_interarrival).reset_index(level=0, drop=True)"
   ]
>>>>>>> Stashed changes
  }
 ],
 "metadata": {
  "kernelspec": {
   "display_name": "Python 3 (ipykernel)",
   "language": "python",
   "name": "python3"
  },
  "language_info": {
   "codemirror_mode": {
    "name": "ipython",
    "version": 3
   },
   "file_extension": ".py",
   "mimetype": "text/x-python",
   "name": "python",
   "nbconvert_exporter": "python",
   "pygments_lexer": "ipython3",
   "version": "3.11.5"
  }
 },
 "nbformat": 4,
 "nbformat_minor": 5
}
